{
  "nbformat": 4,
  "nbformat_minor": 0,
  "metadata": {
    "colab": {
      "name": "Untitled0.ipynb",
      "provenance": [],
      "collapsed_sections": [],
      "authorship_tag": "ABX9TyNGvI69CQGJyvEgfSwH6Fku",
      "include_colab_link": true
    },
    "kernelspec": {
      "name": "python3",
      "display_name": "Python 3"
    }
  },
  "cells": [
    {
      "cell_type": "markdown",
      "metadata": {
        "id": "view-in-github",
        "colab_type": "text"
      },
      "source": [
        "<a href=\"https://colab.research.google.com/github/jigargada/JCode/blob/master/PrimeNumber.ipynb\" target=\"_parent\"><img src=\"https://colab.research.google.com/assets/colab-badge.svg\" alt=\"Open In Colab\"/></a>"
      ]
    },
    {
      "cell_type": "code",
      "metadata": {
        "id": "z0cVXXgYLLaw",
        "colab_type": "code",
        "outputId": "fd5af639-197f-47fb-aa42-27986370ac62",
        "colab": {
          "base_uri": "https://localhost:8080/",
          "height": 67
        }
      },
      "source": [
        "num = int(input(\"Enter a Number:\"))\n",
        "\n",
        "if num>1:\n",
        "    for i in range(2,num):\n",
        "        if (num % i) == 0:\n",
        "            print(num, \"is not a prime number\")\n",
        "            print(num, \" is divisible by\" , i)\n",
        "            break\n",
        "    else:\n",
        "            print(num, \" is a prime number\")\n",
        "\n",
        "# if number is less than or equal to 1 then it is not a prime number\n",
        "else:\n",
        "    print(num, \"is not a prime number\")\n",
        "\n"
      ],
      "execution_count": 0,
      "outputs": [
        {
          "output_type": "stream",
          "text": [
            "Enter a Number:14\n",
            "14 is not a prime number\n",
            "14  is divisible by 2\n"
          ],
          "name": "stdout"
        }
      ]
    },
    {
      "cell_type": "code",
      "metadata": {
        "id": "mjsTWFLaNFnR",
        "colab_type": "code",
        "colab": {}
      },
      "source": [
        ""
      ],
      "execution_count": 0,
      "outputs": []
    }
  ]
}